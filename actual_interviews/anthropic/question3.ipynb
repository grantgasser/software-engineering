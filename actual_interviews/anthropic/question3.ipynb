{
 "cells": [
  {
   "cell_type": "code",
   "execution_count": 4,
   "id": "8689c783-83f9-454f-a9bd-cdff83c33b89",
   "metadata": {},
   "outputs": [
    {
     "name": "stdout",
     "output_type": "stream",
     "text": [
      "\n",
      "Question 3:\n",
      "2\n"
     ]
    }
   ],
   "source": [
    "# Question 3\n",
    "def solution(field, figure):\n",
    "\n",
    "    # Loop across\n",
    "    col = 0\n",
    "    while col <= len(field[0]) - 3:\n",
    "        #print('\\ncol:', col)\n",
    "        # Loop down\n",
    "        row = 0\n",
    "        while row <= len(field) - 3:\n",
    "            # print('row:', row)\n",
    "            # print('blocked:', is_blocked(row, col, field, figure))\n",
    "\n",
    "            # If we have a full row - success\n",
    "            if is_row_full(row, col, field, figure):\n",
    "                return col\n",
    "\n",
    "            # If the figure is blocked and cannot go further down\n",
    "            if is_blocked(row, col, field, figure):\n",
    "                #print('breaking')\n",
    "                break\n",
    "\n",
    "            row += 1\n",
    "\n",
    "        col += 1\n",
    "\n",
    "    return -1\n",
    "\n",
    "\n",
    "def is_blocked(curr_row, curr_col, field, figure):\n",
    "    figure_bottom_row = figure[-1]\n",
    "    next_row = field[curr_row + 3][curr_col:curr_col+3]\n",
    "\n",
    "    # print('bottom row:', figure_bottom_row)\n",
    "    # print('next row:', next_row)\n",
    "\n",
    "    for fig_val, field_val in zip(figure_bottom_row, next_row):\n",
    "        if fig_val + field_val == 2:\n",
    "            return True\n",
    "        \n",
    "    return False\n",
    "\n",
    "import numpy as np\n",
    "\n",
    "def is_row_full(curr_row, curr_col, field, figure):\n",
    "    figure = np.array(figure)\n",
    "    field = np.array(field)\n",
    "\n",
    "    # Overlay the figure on the field\n",
    "    field[curr_row:curr_row+3, curr_col:curr_col+3] = field[curr_row:curr_row+3, curr_col:curr_col+3] + figure\n",
    "\n",
    "    # Check if there is a row with all 1s\n",
    "    if np.all(field == 1, axis=1).sum(): \n",
    "        return True\n",
    "    \n",
    "    return False"
   ]
  },
  {
   "cell_type": "markdown",
   "id": "3768f6f8-8395-4eab-bb3b-9da13a815315",
   "metadata": {},
   "source": [
    "### Test"
   ]
  },
  {
   "cell_type": "code",
   "execution_count": 5,
   "id": "f659287f-535d-49a7-8235-9d40407f403c",
   "metadata": {},
   "outputs": [
    {
     "name": "stdout",
     "output_type": "stream",
     "text": [
      "\n",
      "Question 3:\n",
      "2\n"
     ]
    }
   ],
   "source": [
    "field = [[0, 0, 0, 0, 0],\n",
    "          [0, 0, 0, 0, 0],\n",
    "          [0, 0, 0, 0, 0],\n",
    "          [1, 1, 0, 1, 0],\n",
    "          [1, 0, 1, 0, 1]]\n",
    "\n",
    "figure = [[1, 1, 1],\n",
    "          [1, 0, 1],\n",
    "          [1, 0, 1]]\n",
    "\n",
    "print('\\nQuestion 3:')\n",
    "print(solution(field, figure))"
   ]
  },
  {
   "cell_type": "code",
   "execution_count": 6,
   "id": "02071be0-f239-4b06-be1d-e37bff3300ce",
   "metadata": {},
   "outputs": [
    {
     "data": {
      "text/plain": [
       "0"
      ]
     },
     "execution_count": 6,
     "metadata": {},
     "output_type": "execute_result"
    }
   ],
   "source": [
    "field = [[0, 0, 0],\n",
    "         [0, 0, 0],\n",
    "         [0, 0, 0],\n",
    "         [1, 0, 0],\n",
    "         [1, 1, 0]]\n",
    "\n",
    "figure = [[0, 0, 1],\n",
    "         [0, 1, 1],\n",
    "         [0, 0, 1]]\n",
    "\n",
    "solution(field, figure)"
   ]
  },
  {
   "cell_type": "code",
   "execution_count": 7,
   "id": "7a7117ae-635f-4528-be1e-fba023a37669",
   "metadata": {},
   "outputs": [
    {
     "data": {
      "text/plain": [
       "-1"
      ]
     },
     "execution_count": 7,
     "metadata": {},
     "output_type": "execute_result"
    }
   ],
   "source": [
    "field =  [[0, 0, 0, 0],\n",
    "          [0, 0, 0, 0],\n",
    "          [0, 0, 0, 0],\n",
    "          [1, 0, 0, 1],\n",
    "          [1, 1, 0, 1]]\n",
    "\n",
    "figure = [[1, 1, 0],\n",
    "          [1, 0, 0],\n",
    "          [1, 0, 0]]\n",
    "\n",
    "solution(field, figure)"
   ]
  },
  {
   "cell_type": "markdown",
   "id": "4e1a97fd-0660-48fb-b689-c990e07d6bde",
   "metadata": {},
   "source": [
    "### Question 4"
   ]
  },
  {
   "cell_type": "code",
   "execution_count": 12,
   "id": "d483273c-4a2f-4ddf-bd0b-aad6f8ad5974",
   "metadata": {},
   "outputs": [
    {
     "data": {
      "text/plain": [
       "0"
      ]
     },
     "execution_count": 12,
     "metadata": {},
     "output_type": "execute_result"
    }
   ],
   "source": [
    "64 % 2"
   ]
  },
  {
   "cell_type": "code",
   "execution_count": 13,
   "id": "2ed0ab6b-97f5-48d7-a3ba-ebc7505b51c0",
   "metadata": {},
   "outputs": [
    {
     "data": {
      "text/plain": [
       "32.0"
      ]
     },
     "execution_count": 13,
     "metadata": {},
     "output_type": "execute_result"
    }
   ],
   "source": [
    "64 / 2"
   ]
  },
  {
   "cell_type": "code",
   "execution_count": 14,
   "id": "13994808-f8f3-49da-98e9-d564b15e7215",
   "metadata": {},
   "outputs": [
    {
     "data": {
      "text/plain": [
       "16.0"
      ]
     },
     "execution_count": 14,
     "metadata": {},
     "output_type": "execute_result"
    }
   ],
   "source": [
    "32 / 2"
   ]
  },
  {
   "cell_type": "code",
   "execution_count": 15,
   "id": "e3c962b9-57f1-4bc1-88a2-68c2035907e0",
   "metadata": {},
   "outputs": [
    {
     "data": {
      "text/plain": [
       "8.0"
      ]
     },
     "execution_count": 15,
     "metadata": {},
     "output_type": "execute_result"
    }
   ],
   "source": [
    "16 / 2"
   ]
  },
  {
   "cell_type": "code",
   "execution_count": 16,
   "id": "2c616d18-f66e-43cb-9c9d-6c7e310e7320",
   "metadata": {},
   "outputs": [
    {
     "data": {
      "text/plain": [
       "4.0"
      ]
     },
     "execution_count": 16,
     "metadata": {},
     "output_type": "execute_result"
    }
   ],
   "source": [
    "8 / 2"
   ]
  },
  {
   "cell_type": "code",
   "execution_count": 17,
   "id": "12e08de7-4b3f-4b7e-b71a-d98a39babe13",
   "metadata": {},
   "outputs": [
    {
     "data": {
      "text/plain": [
       "2.0"
      ]
     },
     "execution_count": 17,
     "metadata": {},
     "output_type": "execute_result"
    }
   ],
   "source": [
    "4 / 2"
   ]
  },
  {
   "cell_type": "code",
   "execution_count": 18,
   "id": "891e64b6-b285-4193-ab39-2438e9b0b27a",
   "metadata": {},
   "outputs": [
    {
     "data": {
      "text/plain": [
       "1.0"
      ]
     },
     "execution_count": 18,
     "metadata": {},
     "output_type": "execute_result"
    }
   ],
   "source": [
    "2 / 2"
   ]
  },
  {
   "cell_type": "code",
   "execution_count": 19,
   "id": "bf467823-a739-41b2-a484-fc03c031045e",
   "metadata": {},
   "outputs": [
    {
     "data": {
      "text/plain": [
       "5.5"
      ]
     },
     "execution_count": 19,
     "metadata": {},
     "output_type": "execute_result"
    }
   ],
   "source": [
    "11 / 2"
   ]
  },
  {
   "cell_type": "code",
   "execution_count": 20,
   "id": "c0501b4a-843a-4dd7-8df2-695f7b2781d7",
   "metadata": {},
   "outputs": [
    {
     "data": {
      "text/plain": [
       "2.75"
      ]
     },
     "execution_count": 20,
     "metadata": {},
     "output_type": "execute_result"
    }
   ],
   "source": [
    "5.5 / 2"
   ]
  },
  {
   "cell_type": "code",
   "execution_count": 21,
   "id": "34446af1-45ad-4999-9446-508a25e578cd",
   "metadata": {},
   "outputs": [
    {
     "data": {
      "text/plain": [
       "1.5"
      ]
     },
     "execution_count": 21,
     "metadata": {},
     "output_type": "execute_result"
    }
   ],
   "source": [
    "5.5 % 2"
   ]
  },
  {
   "cell_type": "code",
   "execution_count": 22,
   "id": "91b1fbe3-f9cc-4d5d-94fd-a0f7d4888542",
   "metadata": {},
   "outputs": [
    {
     "data": {
      "text/plain": [
       "0"
      ]
     },
     "execution_count": 22,
     "metadata": {},
     "output_type": "execute_result"
    }
   ],
   "source": [
    "32 % 2"
   ]
  },
  {
   "cell_type": "code",
   "execution_count": 23,
   "id": "71104798-4836-4f10-9a01-1e4b409b51d7",
   "metadata": {},
   "outputs": [
    {
     "data": {
      "text/plain": [
       "5.0"
      ]
     },
     "execution_count": 23,
     "metadata": {},
     "output_type": "execute_result"
    }
   ],
   "source": [
    "10 / 2"
   ]
  },
  {
   "cell_type": "code",
   "execution_count": 24,
   "id": "cfe2723e-cd70-4214-838f-ba996fb9bbc0",
   "metadata": {},
   "outputs": [
    {
     "data": {
      "text/plain": [
       "2.5"
      ]
     },
     "execution_count": 24,
     "metadata": {},
     "output_type": "execute_result"
    }
   ],
   "source": [
    "5 / 2"
   ]
  },
  {
   "cell_type": "code",
   "execution_count": 25,
   "id": "04481054-6366-4c5a-bc43-5897f8ac1f79",
   "metadata": {},
   "outputs": [
    {
     "data": {
      "text/plain": [
       "6.0"
      ]
     },
     "execution_count": 25,
     "metadata": {},
     "output_type": "execute_result"
    }
   ],
   "source": [
    "12 / 2"
   ]
  },
  {
   "cell_type": "code",
   "execution_count": 26,
   "id": "4b32163e-2ba2-40e0-be65-3745028e5cc2",
   "metadata": {},
   "outputs": [
    {
     "data": {
      "text/plain": [
       "3.0"
      ]
     },
     "execution_count": 26,
     "metadata": {},
     "output_type": "execute_result"
    }
   ],
   "source": [
    "6 / 2"
   ]
  },
  {
   "cell_type": "code",
   "execution_count": 27,
   "id": "10cde1c5-473b-4bee-a531-cf8992e2a668",
   "metadata": {},
   "outputs": [
    {
     "data": {
      "text/plain": [
       "1.5"
      ]
     },
     "execution_count": 27,
     "metadata": {},
     "output_type": "execute_result"
    }
   ],
   "source": [
    "3 / 2"
   ]
  },
  {
   "cell_type": "code",
   "execution_count": 34,
   "id": "a2136f65-f075-4be5-bec8-06a678d1bde4",
   "metadata": {},
   "outputs": [
    {
     "data": {
      "text/plain": [
       "'2'"
      ]
     },
     "execution_count": 34,
     "metadata": {},
     "output_type": "execute_result"
    }
   ],
   "source": [
    "chr(ord('1') + 1)"
   ]
  },
  {
   "cell_type": "code",
   "execution_count": null,
   "id": "06f6ed7f-3d76-40cb-b6aa-871a708d0a25",
   "metadata": {},
   "outputs": [],
   "source": [
    "\"abc123XYz\" => \"bcd123YZa\""
   ]
  },
  {
   "cell_type": "code",
   "execution_count": 35,
   "id": "f7affe78-a2fb-4064-ae1f-c6e61b0d4f71",
   "metadata": {},
   "outputs": [
    {
     "data": {
      "text/plain": [
       "True"
      ]
     },
     "execution_count": 35,
     "metadata": {},
     "output_type": "execute_result"
    }
   ],
   "source": [
    "\"1\".isdigit()"
   ]
  },
  {
   "cell_type": "code",
   "execution_count": 41,
   "id": "0f238467-bdb6-4235-966d-4a2c27c9ce7f",
   "metadata": {},
   "outputs": [
    {
     "data": {
      "text/plain": [
       "True"
      ]
     },
     "execution_count": 41,
     "metadata": {},
     "output_type": "execute_result"
    }
   ],
   "source": [
    "\"a\".isalpha()"
   ]
  },
  {
   "cell_type": "code",
   "execution_count": 47,
   "id": "29a22e6b-37b4-42af-929b-7bbb20ad617a",
   "metadata": {},
   "outputs": [
    {
     "data": {
      "text/plain": [
       "'{'"
      ]
     },
     "execution_count": 47,
     "metadata": {},
     "output_type": "execute_result"
    }
   ],
   "source": [
    "chr(ord(\"z\") + 1)"
   ]
  },
  {
   "cell_type": "code",
   "execution_count": 45,
   "id": "02f8c30e-006e-42ab-bc86-7ac2f47dca7b",
   "metadata": {},
   "outputs": [],
   "source": [
    "def solution(s):\n",
    "    s_shifted = ''\n",
    "    \n",
    "    for char in s:\n",
    "        if char.isalpha():\n",
    "            s_shifted += chr(ord(char) + 1)\n",
    "        else:\n",
    "            s_shifted += char\n",
    "            \n",
    "    return s_shifted"
   ]
  },
  {
   "cell_type": "code",
   "execution_count": 46,
   "id": "7e77c453-2e16-42aa-83fa-83f4f3da4dbe",
   "metadata": {},
   "outputs": [
    {
     "data": {
      "text/plain": [
       "'bcd123YZ{!'"
      ]
     },
     "execution_count": 46,
     "metadata": {},
     "output_type": "execute_result"
    }
   ],
   "source": [
    "solution(\"abc123XYz!\")"
   ]
  },
  {
   "cell_type": "code",
   "execution_count": 59,
   "id": "ad815b11-ad84-4a84-99d5-cbe1315e1cd3",
   "metadata": {},
   "outputs": [
    {
     "data": {
      "text/plain": [
       "5"
      ]
     },
     "execution_count": 59,
     "metadata": {},
     "output_type": "execute_result"
    }
   ],
   "source": [
    "import math\n",
    "\n",
    "math.gcd(10, 15)"
   ]
  },
  {
   "cell_type": "code",
   "execution_count": null,
   "id": "c83551dd-2e07-45b8-ac09-de22e40814bf",
   "metadata": {},
   "outputs": [],
   "source": []
  }
 ],
 "metadata": {
  "kernelspec": {
   "display_name": "Python 3 (ipykernel)",
   "language": "python",
   "name": "python3"
  },
  "language_info": {
   "codemirror_mode": {
    "name": "ipython",
    "version": 3
   },
   "file_extension": ".py",
   "mimetype": "text/x-python",
   "name": "python",
   "nbconvert_exporter": "python",
   "pygments_lexer": "ipython3",
   "version": "3.11.5"
  }
 },
 "nbformat": 4,
 "nbformat_minor": 5
}
